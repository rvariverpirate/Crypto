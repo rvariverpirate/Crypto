{
 "cells": [
  {
   "cell_type": "markdown",
   "metadata": {},
   "source": [
    "# Blockchains and Cryptocurrencies\n",
    "## Homework 6\n",
    "## Joseph S Cannella\n"
   ]
  },
  {
   "cell_type": "markdown",
   "metadata": {},
   "source": [
    "#### Q1. [5 points] Ethereum employs KECCAK256 hash algorithm to compute hashes in the modified MerklePatricia trie. Determine the KECCAK256 hash of the following root note of a Merkel tree. The hexa string to be hashed is “0B8FC549A” (Note: Here, all arehexa characters.) It is the same as “0b8fc549a” if you want to correlate with the notation in the below figure.These are NOT ASCII characters."
   ]
  },
  {
   "cell_type": "code",
   "execution_count": 150,
   "metadata": {},
   "outputs": [
    {
     "name": "stdout",
     "output_type": "stream",
     "text": [
      "0x0\n",
      "0xb8\n",
      "0xfc\n",
      "0x54\n",
      "0x9a\n",
      "Calcualtion Verified!\n",
      "Computed Hash: 4fe3f0f1badb26168c66bd23ab36206fd90abd30a762564db07ce733e4830588\n"
     ]
    }
   ],
   "source": [
    "# Note: SHA3 is the official name of KECCAK 256\n",
    "import hashlib, binascii\n",
    "import math\n",
    "hexInput = 0x0B8FC549A# hex values\n",
    "\n",
    "# Much of what we need reiles on converting this to character array\n",
    "# NOTE: the bytes will remain the same, jut the representation changes\n",
    "def hexToString(hexVal):\n",
    "    numBytes = math.ceil(math.log(hexVal, 256))\n",
    "    prevByte = 0\n",
    "    charArray = \"\"\n",
    "    for i in range(numBytes, -1, -1):\n",
    "        currentByte = hexVal>>(8*i)\n",
    "        prevByte = currentByte<<(8*i)\n",
    "        hexVal = hexVal - prevByte\n",
    "        print(hex(currentByte))\n",
    "        charArray += chr(currentByte)\n",
    "    return charArray\n",
    "# Calculate Character Array Representation of Hex String\n",
    "chrArray = hexToString(0x0B8FC549A)\n",
    "# Verification\n",
    "inputStr = chr(0x0) + chr(0xB8) +  chr(0xFC) + chr(0x54) +  chr(0x9A)\n",
    "if(chrArray == inputStr):\n",
    "    print(\"Calcualtion Verified!\")\n",
    "\n",
    "# Compute Hash using SHA3\n",
    "s = hashlib.sha3_256()\n",
    "s.update(chrArray.encode())\n",
    "print(f'Computed Hash: {s.hexdigest()}')"
   ]
  },
  {
   "cell_type": "markdown",
   "metadata": {},
   "source": [
    "#### Q2. [15 points] As shown in the below figure, modified Merkle Patricia tries in Ethereumare used to store the world state. Here, the tree represents 4 given accounts (shown in the Simplified World State). Give the following 6 accounts, with account# being the key expressed as a hexa character string. For simplicity, account# is represented as a 8-character string. In reality, it is 40 characters or 20 bytes in length.\n",
    "#### 1. Construct a Merkle tree with these 6 accounts. Employ SHA-256 for hashing within the Merkel tree.\n",
    "#### 2. Construct a Patricia tree with these 6 accounts. Consider the address as a string of hexa characters. (iii)Construct a modified Merkle-Patricia tree (similar to the one in the below figure).\n",
    "#### 3. Compare the three implementations and comment why Ethereum inventor proposed the modified Merkle-Patricia tree.\n",
    "\n",
    "| Account# (in hexa) | Account balance (in Ether) | Number of transactions | \n",
    "|:----:|:----:|:----:|\n",
    "|b35023b1|250.256|108|\n",
    "|b57d46e8|4500.4798|213|\n",
    "|b57690a1|367.90|578|\n",
    "|d9a545b2|70013.256|1023|\n",
    "|d9a7d235|678.23|651|\n",
    "|d9a7d456|78.00|25|"
   ]
  },
  {
   "cell_type": "markdown",
   "metadata": {},
   "source": [
    "First, create a transaction class for the individual transactions."
   ]
  },
  {
   "cell_type": "code",
   "execution_count": 148,
   "metadata": {},
   "outputs": [],
   "source": [
    "# Transactions Class\n",
    "class Transaction:\n",
    "    account = \"\"\n",
    "    balance = 0\n",
    "    numTrans = 0\n",
    "    def __init__(self, account, balance, numTrans):\n",
    "        self.account = account\n",
    "        self.balance = balance\n",
    "        self.numTrans = numTrans    "
   ]
  },
  {
   "cell_type": "markdown",
   "metadata": {},
   "source": [
    "Now that we have created our basic classes we begin by constructing a list of transactions."
   ]
  },
  {
   "cell_type": "code",
   "execution_count": 149,
   "metadata": {},
   "outputs": [
    {
     "name": "stdout",
     "output_type": "stream",
     "text": [
      "account: 3008373681, Balance: 250.256, # Transactions 108\n",
      "account: 3044886248, Balance: 4500.4798, # Transactions 213\n",
      "account: 3044446369, Balance: 367.9, # Transactions 578\n",
      "account: 3651487154, Balance: 70013.256, # Transactions 1023\n",
      "account: 3651654197, Balance: 678.23, # Transactions 651\n",
      "account: 3651654742, Balance: 78.0, # Transactions 25\n"
     ]
    }
   ],
   "source": [
    "transactions = []\n",
    "transactions.append(Transaction(0xb35023b1, 250.256, 108))\n",
    "transactions.append(Transaction(0xb57d46e8, 4500.4798, 213))\n",
    "transactions.append(Transaction(0xb57690a1, 367.90, 578))\n",
    "transactions.append(Transaction(0xd9a545b2, 70013.256, 1023))\n",
    "transactions.append(Transaction(0xd9a7d235, 678.23, 651))\n",
    "transactions.append(Transaction(0xd9a7d456, 78.00, 25))\n",
    "\n",
    "for t in transactions:\n",
    "    print(f'account: {t.account}, Balance: {t.balance}, # Transactions {t.numTrans}')"
   ]
  },
  {
   "cell_type": "markdown",
   "metadata": {},
   "source": [
    "#### (i) Construct Merkle Tree implementing SHA-256"
   ]
  },
  {
   "cell_type": "code",
   "execution_count": null,
   "metadata": {},
   "outputs": [],
   "source": []
  },
  {
   "cell_type": "markdown",
   "metadata": {},
   "source": [
    "#### (iii) Construct a modified Merkle-Patricia Tree\n",
    "\n",
    "#### Approach\n",
    "We require three types of nodes to build modified Merkle Patricia Tree\n",
    "1. Leaf Nodes - containing the actual value of a transaction\n",
    "2. Extension Nodes - \n",
    "3. Branch Nodes - basically a 16 elemennt array or pointers to children nodes"
   ]
  },
  {
   "cell_type": "code",
   "execution_count": null,
   "metadata": {},
   "outputs": [],
   "source": [
    "# Leaf Node Class\n",
    "class LeafNode:\n",
    "    prefix = 0\n",
    "    keyEnd = 0\n",
    "    value = 0\n",
    "    def __init__(self, prefix, keyEnd, value):\n",
    "        self.prefix = prefix\n",
    "        self.keyEnd = keyEnd\n",
    "        self.value = value\n",
    "\n",
    "# Extension Node Class\n",
    "class ExtensionNode:\n",
    "    prefix = 0\n",
    "    sharedNibles = 0\n",
    "    def __init__(self, prefix, sharedNibbles, nextNode):\n",
    "        self.prefix = prefix\n",
    "        self.sharedNibbles = sharedNibbles\n",
    "        self.nextNode = nextNode\n",
    "        \n",
    "# Branch Node Class\n",
    "class BranchNode:\n",
    "    address = 0\n",
    "    value = 0\n",
    "    def __init__(self, addresses, value):\n",
    "        self.addresses = addresses\n",
    "        self.value = value"
   ]
  }
 ],
 "metadata": {
  "kernelspec": {
   "display_name": "Python 3",
   "language": "python",
   "name": "python3"
  },
  "language_info": {
   "codemirror_mode": {
    "name": "ipython",
    "version": 3
   },
   "file_extension": ".py",
   "mimetype": "text/x-python",
   "name": "python",
   "nbconvert_exporter": "python",
   "pygments_lexer": "ipython3",
   "version": "3.7.4"
  }
 },
 "nbformat": 4,
 "nbformat_minor": 4
}
