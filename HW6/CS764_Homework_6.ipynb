{
 "cells": [
  {
   "cell_type": "markdown",
   "metadata": {},
   "source": [
    "# Blockchains and Cryptocurrencies\n",
    "## Homework 6\n",
    "## Joseph S Cannella\n"
   ]
  },
  {
   "cell_type": "markdown",
   "metadata": {},
   "source": [
    "#### Q1. [5 points] Ethereum employs KECCAK256 hash algorithm to compute hashes in the modified MerklePatricia trie. Determine the KECCAK256 hash of the following root note of a Merkel tree. The hexa string to be hashed is “0B8FC549A” (Note: Here, all arehexa characters.) It is the same as “0b8fc549a” if you want to correlate with the notation in the below figure.These are NOT ASCII characters."
   ]
  },
  {
   "cell_type": "code",
   "execution_count": 60,
   "metadata": {},
   "outputs": [
    {
     "name": "stdout",
     "output_type": "stream",
     "text": [
      "0x0\n",
      "0xb8\n",
      "0xfc\n",
      "0x54\n",
      "0x9a\n",
      "Calcualtion Verified!\n",
      "Computed Hash: 4fe3f0f1badb26168c66bd23ab36206fd90abd30a762564db07ce733e4830588\n"
     ]
    }
   ],
   "source": [
    "# Note: SHA3 is the official name of KECCAK 256\n",
    "import hashlib, binascii\n",
    "import math\n",
    "import pandas as pd\n",
    "hexInput = 0x0B8FC549A# hex values\n",
    "\n",
    "# Much of what we need reiles on converting this to character array\n",
    "# NOTE: the bytes will remain the same, jut the representation changes\n",
    "def hexToString(hexVal):\n",
    "    numBytes = math.ceil(math.log(hexVal, 256))\n",
    "    prevByte = 0\n",
    "    charArray = \"\"\n",
    "    for i in range(numBytes, -1, -1):\n",
    "        currentByte = hexVal>>(8*i)\n",
    "        prevByte = currentByte<<(8*i)\n",
    "        hexVal = hexVal - prevByte\n",
    "        print(hex(currentByte))\n",
    "        charArray += chr(currentByte)\n",
    "    return charArray\n",
    "# Calculate Character Array Representation of Hex String\n",
    "chrArray = hexToString(0x0B8FC549A)\n",
    "# Verification\n",
    "inputStr = chr(0x0) + chr(0xB8) +  chr(0xFC) + chr(0x54) +  chr(0x9A)\n",
    "if(chrArray == inputStr):\n",
    "    print(\"Calcualtion Verified!\")\n",
    "\n",
    "# Compute Hash using SHA3\n",
    "s = hashlib.sha3_256()\n",
    "s.update(chrArray.encode())\n",
    "print(f'Computed Hash: {s.hexdigest()}')"
   ]
  },
  {
   "cell_type": "markdown",
   "metadata": {},
   "source": [
    "#### Q2. [15 points] As shown in the below figure, modified Merkle Patricia tries in Ethereumare used to store the world state. Here, the tree represents 4 given accounts (shown in the Simplified World State). Give the following 6 accounts, with account# being the key expressed as a hexa character string. For simplicity, account# is represented as a 8-character string. In reality, it is 40 characters or 20 bytes in length.\n",
    "#### 1. Construct a Merkle tree with these 6 accounts. Employ SHA-256 for hashing within the Merkel tree.\n",
    "#### 2. Construct a Patricia tree with these 6 accounts. Consider the address as a string of hexa characters. (iii)Construct a modified Merkle-Patricia tree (similar to the one in the below figure).\n",
    "#### 3. Compare the three implementations and comment why Ethereum inventor proposed the modified Merkle-Patricia tree.\n",
    "\n",
    "| Account# (in hexa) | Account balance (in Ether) | Number of transactions | \n",
    "|:----:|:----:|:----:|\n",
    "|b35023b1|250.256|108|\n",
    "|b57d46e8|4500.4798|213|\n",
    "|b57690a1|367.90|578|\n",
    "|d9a545b2|70013.256|1023|\n",
    "|d9a7d235|678.23|651|\n",
    "|d9a7d456|78.00|25|"
   ]
  },
  {
   "cell_type": "markdown",
   "metadata": {},
   "source": [
    "First, create a transaction class for the individual transactions."
   ]
  },
  {
   "cell_type": "code",
   "execution_count": 17,
   "metadata": {},
   "outputs": [],
   "source": [
    "# Account Class\n",
    "class Account:\n",
    "    accountNum = 0\n",
    "    balance = 0\n",
    "    numTrans = 0\n",
    "    def __init__(self, accountNum, balance, numTrans):\n",
    "        self.accountNum = accountNum\n",
    "        self.balance = balance\n",
    "        self.numTrans = numTrans    "
   ]
  },
  {
   "cell_type": "markdown",
   "metadata": {},
   "source": [
    "Now that we have created our basic classes we begin by constructing a list of transactions."
   ]
  },
  {
   "cell_type": "code",
   "execution_count": 18,
   "metadata": {},
   "outputs": [
    {
     "name": "stdout",
     "output_type": "stream",
     "text": [
      "Account#: 3008373681, Balance: 250.256, # Transactions 108\n",
      "Account#: 3044886248, Balance: 4500.4798, # Transactions 213\n",
      "Account#: 3044446369, Balance: 367.9, # Transactions 578\n",
      "Account#: 3651487154, Balance: 70013.256, # Transactions 1023\n",
      "Account#: 3651654197, Balance: 678.23, # Transactions 651\n",
      "Account#: 3651654742, Balance: 78.0, # Transactions 25\n"
     ]
    }
   ],
   "source": [
    "accounts = []\n",
    "accounts.append(Account(0xb35023b1, 250.256, 108))\n",
    "accounts.append(Account(0xb57d46e8, 4500.4798, 213))\n",
    "accounts.append(Account(0xb57690a1, 367.90, 578))\n",
    "accounts.append(Account(0xd9a545b2, 70013.256, 1023))\n",
    "accounts.append(Account(0xd9a7d235, 678.23, 651))\n",
    "accounts.append(Account(0xd9a7d456, 78.00, 25))\n",
    "\n",
    "for a in accounts:\n",
    "    print(f'Account#: {a.accountNum}, Balance: {a.balance}, # Transactions {a.numTrans}')"
   ]
  },
  {
   "cell_type": "markdown",
   "metadata": {},
   "source": [
    "#### (i) Construct Merkle Tree implementing SHA-256"
   ]
  },
  {
   "cell_type": "code",
   "execution_count": 71,
   "metadata": {},
   "outputs": [],
   "source": [
    "# Refference: https://www.youtube.com/watch?v=GaFuBrkkI_w\n",
    "import json\n",
    "class MerkleTree:\n",
    "    def __init__(self, accounts):\n",
    "        self.accounts = accounts\n",
    "        self.hashes = []\n",
    "        self.getInitialHashes()\n",
    "        \n",
    "    def getInitialHashes(self):\n",
    "        # loop over each account and determine its hash \n",
    "        for a in self.accounts:\n",
    "            accountStr = f'{a.accountNum}:{a.balance}:{a.numTrans}'\n",
    "            self.hashes.append(hashlib.sha256(accountStr.encode()).hexdigest())\n",
    "        \n",
    "        # Recursively Build the Tree\n",
    "        self.buildTree(self.hashes)\n",
    "            \n",
    "            \n",
    "    def buildTree(self, previousHashes):\n",
    "        # We need an even number of hashes each time\n",
    "        if(len(previousHashes) %2 != 0):\n",
    "            # If not even make even by adding appennding laast hash again\n",
    "            previousHashes.append(previousHashes[-1])\n",
    "        \n",
    "        # Keep a list or the new hases we will generate from the old ones\n",
    "        newHashes = []\n",
    "        \n",
    "        # Loop over hashes in pairs of two hashing them together\n",
    "        for i in range(0, len(previousHashes), 2):\n",
    "            newStr = previousHashes[i] + previousHashes[i+1]\n",
    "            newHash = hashlib.sha256(newStr.encode()).hexdigest()\n",
    "            newHashes.append(newHash)\n",
    "            self.hashes.append(newHash)\n",
    "            \n",
    "        # Check if we need to continue recursion (only one element)\n",
    "        if(len(newHashes) > 1):\n",
    "            self.buildTree(newHashes)"
   ]
  },
  {
   "cell_type": "markdown",
   "metadata": {},
   "source": [
    "#### New that the tree class has been created. Lets populate, view it's entries, and asses its properties."
   ]
  },
  {
   "cell_type": "code",
   "execution_count": 83,
   "metadata": {},
   "outputs": [
    {
     "data": {
      "text/plain": [
       "['836dc5a1e3dcfc064f62cff1da53500670d83e4a38d6e30c0cd1be3b5c83489b',\n",
       " 'ac591ad1bbe41e02f38486b36128b294c3a8c56f908b40c39296f7989bb53568',\n",
       " 'e6dd8393904cbb3d771a9db9d009959ccfaea2be159be7a6f7780a3901d0f2c0',\n",
       " '2413ad322568e89ee206bad47847d19d74802bf095a4089256266751399dec6c',\n",
       " '53e679861eaf673aafd1a5ad2df2354704c4631bbee76cfe2e4280df75532fca',\n",
       " '4e3041e733551c62581cf2df7a1aa81620bb8547906c4d0efd3a8500673bff4e',\n",
       " 'd7778607e9f5b63c4b1789a6626eeb5401e983e1e4127a7bf50eb30c423092e3',\n",
       " 'bcb0d4036dd808b0c6f985375004113b07da6269afd9132a3f0667ef2ed41b09',\n",
       " 'aedbdbc17aaccfe2a03050678dffdb97f83d41c77e7d16a1420ef381ba466ad6',\n",
       " '6fc1b66014de9bf42e18f1ec91b09e4e2099fedbfd7553976dce3f05987d8cde',\n",
       " '836ec3ac8fc12a5e1bd08ef10369987e2fed7ac2d500f29c00ce17133a86aeba',\n",
       " '5a322ca30a21ecfd444701c434d445cfb3135ec9435122932c63dc76bd042a25']"
      ]
     },
     "execution_count": 83,
     "metadata": {},
     "output_type": "execute_result"
    }
   ],
   "source": [
    "myMerkleTree = MerkleTree(accounts)\n",
    "# Pandas would print nicer, but isnt supported by nbconvert\n",
    "merkleDF = pd.DataFrame(myMerkleTree.hashes, columns=['Merkle Tree Hashes'])\n",
    "myMerkleTree.hashes"
   ]
  },
  {
   "cell_type": "markdown",
   "metadata": {},
   "source": [
    "#### (ii) Construct a Patricia Tree\n",
    "#### Solution:\n",
    "\n"
   ]
  },
  {
   "cell_type": "markdown",
   "metadata": {},
   "source": [
    "![title](img/PatriciaTree.png)"
   ]
  },
  {
   "cell_type": "markdown",
   "metadata": {},
   "source": [
    "#### (iii) Construct a modified Merkle-Patricia Tree\n",
    "\n",
    "#### Approach:\n",
    "We require three types of nodes to build modified Merkle Patricia Tree\n",
    "1. Leaf Nodes - containing the actual value of a transaction\n",
    "2. Extension Nodes - basically empty links that jsut point to the node\n",
    "3. Branch Nodes - basically a 16 elemennt array or pointers to children nodes"
   ]
  },
  {
   "cell_type": "code",
   "execution_count": 106,
   "metadata": {},
   "outputs": [],
   "source": [
    "# Leaf Node Class\n",
    "class LeafNode:\n",
    "    keyEnd = 0\n",
    "    value = 0\n",
    "    def __init__(self, keyEnd, value):\n",
    "        self.keyEnd = keyEnd\n",
    "        self.value = value\n",
    "\n",
    "# Extension Node Class\n",
    "class ExtensionNode:\n",
    "    sharedNibbbles = 0\n",
    "    nextNode = 0\n",
    "    def __init__(self, sharedNibbles, nextNode):\n",
    "        self.sharedNibbles = sharedNibbles\n",
    "        self.nextNode = nextNode\n",
    "        \n",
    "# Branch Node Class\n",
    "class BranchNode: \n",
    "    address = [None for i in range(16)]\n",
    "    def __init__(self, key):\n",
    "        self.key = key"
   ]
  },
  {
   "cell_type": "markdown",
   "metadata": {},
   "source": [
    "#### Notes:\n",
    "In this case because we have two distinct leading hex chars we will have two distinct roots and thus two distinct blocks. In this case both of these are extension nodes."
   ]
  },
  {
   "cell_type": "code",
   "execution_count": 107,
   "metadata": {},
   "outputs": [
    {
     "name": "stdout",
     "output_type": "stream",
     "text": [
      "0x0\n",
      "0xb3\n",
      "0x50\n",
      "0x23\n",
      "0xb1\n",
      "0x0\n",
      "0xb5\n",
      "0x7d\n",
      "0x46\n",
      "0xe8\n",
      "0x0\n",
      "0xb5\n",
      "0x76\n",
      "0x90\n",
      "0xa1\n",
      "0x0\n",
      "0xb5\n",
      "0x7d\n",
      "0x46\n",
      "0xe8\n",
      "0x0\n",
      "0xb5\n",
      "0x7d\n",
      "0x46\n",
      "0xe8\n"
     ]
    }
   ],
   "source": [
    "# We First Construct out Leaf Nodes\n",
    "A = accounts\n",
    "accLen = 8# Number of hex chars in account number\n",
    "leafs = []\n",
    "\n",
    "# BLock 1\n",
    "leaf1 = LeafNode(hexToString(A[0].accountNum)[-(7):], A[0].balance)# Keeps last 7 digits of account number\n",
    "leaf2 = LeafNode(hexToString(A[1].accountNum)[-(3):], A[1].balance)# Keeps last 3 digitis of account number\n",
    "leaf3 = LeafNode(hexToString(A[2].accountNum)[-(3):], A[2].balance)# Keeps last 3 digitis of account number\n",
    "branch1 = BranchNode(hexToString(A[1].accountNum)[1:3])# Keeps digits [1:3] of account number\n",
    "branch1.address[0x4] = leaf2# Add leaf 2 to index 4 of extension nodes array\n",
    "branch1.address[0x9] = leaf3# Add leaf 3 to index 9 of extension nodes array\n",
    "branch2 = BranchNode(hexToString(A[1].accountNum)[0])# Root node only contains the first n digist of account number (in this case oth)\n",
    "branch2.address[0x3] = leaf2# Add leaf 2 to index 4 of extension nodes array\n",
    "branch2.address[0x9] = leaf3# Add leaf 3 to index 9 of extension nodes array\n",
    "\n"
   ]
  },
  {
   "cell_type": "markdown",
   "metadata": {},
   "source": [
    "#### (iv) Compare the three implementations and comment why Etherium inventor proposed the modified Merkle-Patricia tree.\n",
    "The modified Merkle Patricia Tree has compression properties of the Patricia tree (it is optimized in size). This is due to the use of branch and extension nodes, making the tree quickly searchable. While the Merkle Patricia Tree allows for compace and secure storage of the world state it should be noted that only the root node's key is hashed. This differes from a Merkle tree where nodes are recursivley hased together in pairs untill a root is created. Due to it's compact nature and security the Merkle Patricia Tree makes a good choice for maintaining validating block within a cryptocurrency."
   ]
  }
 ],
 "metadata": {
  "kernelspec": {
   "display_name": "Python 3",
   "language": "python",
   "name": "python3"
  },
  "language_info": {
   "codemirror_mode": {
    "name": "ipython",
    "version": 3
   },
   "file_extension": ".py",
   "mimetype": "text/x-python",
   "name": "python",
   "nbconvert_exporter": "python",
   "pygments_lexer": "ipython3",
   "version": "3.7.4"
  }
 },
 "nbformat": 4,
 "nbformat_minor": 4
}
