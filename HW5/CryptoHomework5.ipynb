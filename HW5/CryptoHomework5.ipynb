{
 "cells": [
  {
   "cell_type": "code",
   "execution_count": null,
   "metadata": {},
   "outputs": [],
   "source": [
    "'''\n",
    "CS 764 Blockchains and Cryptocurrencies\n",
    "Module 5, Homework 5\n",
    "February 18, 2020\n",
    "Joseph S Cannella\n",
    "'''"
   ]
  },
  {
   "cell_type": "code",
   "execution_count": 39,
   "metadata": {},
   "outputs": [
    {
     "name": "stdout",
     "output_type": "stream",
     "text": [
      "n = 55\n",
      "Phi(n) = 40\n",
      "d = 23\n"
     ]
    }
   ],
   "source": [
    "################################\n",
    "# Q1. Blind Digital Signatures #\n",
    "################################\n",
    "\n",
    "# (i) Given p=5,q=11 determine public key (e,n) and private key (d,n) Where e=7\n",
    "p = 5\n",
    "q = 11\n",
    "e = 7# Public Key (e,n)\n",
    "n = p*q# base (55)\n",
    "Phi_n = (p-1)*(q-1)\n",
    "print('n = %d' %n)\n",
    "print('Phi(n) = %d' % Phi_n)\n",
    "\n",
    "# Note: d == e^-1(mod(Phi_n)), or e*d = 1 mod Phi_n, 7*d = 1 mod 40\n",
    "# Define a helper function for obtaining modular inverse\n",
    "# Refference: egcd() and modinv() were obtained from following site\n",
    "# https://stackoverflow.com/questions/4798654/modular-multiplicative-inverse-function-in-python\n",
    "def egcd(a, b):\n",
    "    if a == 0:\n",
    "        return (b, 0, 1)\n",
    "    else:\n",
    "        g, y, x = egcd(b % a, a)\n",
    "        return (g, x - (b // a) * y, y)\n",
    "\n",
    "def modinv(a, m):\n",
    "    g, x, y = egcd(a, m)\n",
    "    if g != 1:\n",
    "        raise Exception('modular inverse does not exist')\n",
    "    else:\n",
    "        return x % m\n",
    "# Determine the Value of the Private Key\n",
    "d = modinv(e, Phi_n)\n",
    "print('d = %d' % d)"
   ]
  },
  {
   "cell_type": "code",
   "execution_count": 40,
   "metadata": {},
   "outputs": [
    {
     "name": "stdout",
     "output_type": "stream",
     "text": [
      "Blinding Factor = 41\n"
     ]
    }
   ],
   "source": [
    "# (ii) Given: b=6 determine blinding factor using derived public key\n",
    "b = 6 # randomly chosen number used to blind the message\n",
    "BF = pow(b, e) % n\n",
    "print('Blinding Factor = %d' % BF)"
   ]
  },
  {
   "cell_type": "code",
   "execution_count": 41,
   "metadata": {},
   "outputs": [
    {
     "name": "stdout",
     "output_type": "stream",
     "text": [
      "Blinded Message = 11\n"
     ]
    }
   ],
   "source": [
    "# (iii) Given: m=11, determine blinded message\n",
    "m = 11# Plain Text Message\n",
    "BM = m*BF % n# Blinded Message\n",
    "print('Blinded Message = %d' % BM)"
   ]
  },
  {
   "cell_type": "code",
   "execution_count": 42,
   "metadata": {},
   "outputs": [
    {
     "name": "stdout",
     "output_type": "stream",
     "text": [
      "Signed Blinded Message = 11\n"
     ]
    }
   ],
   "source": [
    "# (iv) Determine signature on blinded message using private key\n",
    "BM_signed = pow(BM, d) % n# Bob's signature on blinded message\n",
    "print('Signed Blinded Message = %d' % BM_signed)"
   ]
  },
  {
   "cell_type": "code",
   "execution_count": 43,
   "metadata": {},
   "outputs": [
    {
     "name": "stdout",
     "output_type": "stream",
     "text": [
      "Signed Message = 11\n"
     ]
    }
   ],
   "source": [
    "# (v) Unblind the signature on the blinded message to obtain signature on message\n",
    "SignedMessage = BM_signed*modinv(b, n) % n# Original Message signed by Bob\n",
    "print('Signed Message = %d' % SignedMessage)"
   ]
  },
  {
   "cell_type": "code",
   "execution_count": 44,
   "metadata": {},
   "outputs": [
    {
     "name": "stdout",
     "output_type": "stream",
     "text": [
      "Verified Signature = 11\n"
     ]
    }
   ],
   "source": [
    "# (vi) Verify blind signature matches signature on m using (d,n)\n",
    "VerifiedSignature = pow(m, d) % n\n",
    "print('Verified Signature = %d' % VerifiedSignature)"
   ]
  },
  {
   "cell_type": "code",
   "execution_count": 13,
   "metadata": {},
   "outputs": [
    {
     "name": "stdout",
     "output_type": "stream",
     "text": [
      "HashA:  b'\\x98\\xf17\\x08!\\x01\\x94\\xc4uh{\\xe6\\x10j;\\x84'\n",
      "HashB:  b'|\\xbb\\xc4\\t\\xec\\x99\\x0f\\x19\\xc7\\x8cu\\xbd\\x1e\\x06\\xf2\\x15'\n",
      "HashC:  b'\\xc1jS \\xfaGU0\\xd9X<4\\xfd5n\\xf5'\n",
      "HashD:  b\"(8\\x02:w\\x8d\\xfa\\xec\\xdc!'\\x08\\xf7!\\xb7\\x88\"\n"
     ]
    }
   ],
   "source": [
    "###############################\n",
    "# Q2, Bit-commitment protocol #\n",
    "###############################\n",
    "import hashlib\n",
    "# Secret Nonces for each person (Alice, Bob, Carol, David)\n",
    "NA = 2\n",
    "NB = 7\n",
    "NC = 3\n",
    "ND = 5\n",
    "\n",
    "# Secret Predicted Winner John:0, Jane:1\n",
    "PWA = 0\n",
    "PWB = 0\n",
    "PWC = 1\n",
    "PWD = 1\n",
    "\n",
    "# Public Hashes\n",
    "HashA = hashlib.md5()\n",
    "HashA.update((str(NA) + str(PWA)).encode('utf-8'))\n",
    "HashB = hashlib.md5()\n",
    "HashB.update((str(NB) + str(PWB)).encode('utf-8'))\n",
    "HashC = hashlib.md5()\n",
    "HashC.update((str(NC) + str(PWC)).encode('utf-8'))\n",
    "HashD = hashlib.md5()\n",
    "HashD.update((str(ND) + str(PWD)).encode('utf-8'))\n",
    "\n",
    "# Review Hashes\n",
    "print('HashA: ', HashA.digest())\n",
    "print('HashB: ', HashB.digest())\n",
    "print('HashC: ', HashC.digest())\n",
    "print('HashD: ', HashD.digest())"
   ]
  },
  {
   "cell_type": "code",
   "execution_count": null,
   "metadata": {},
   "outputs": [],
   "source": []
  },
  {
   "cell_type": "code",
   "execution_count": 33,
   "metadata": {},
   "outputs": [
    {
     "name": "stdout",
     "output_type": "stream",
     "text": [
      "HashZero:  b'\\x15; C\\x10~imA\\xd1S\\x1a\\xfd;\\x7f\\x95'\n"
     ]
    }
   ],
   "source": [
    "############################\n",
    "# Q3. Zero-Knoledge proofs #\n",
    "############################\n",
    "\n",
    "# Remote client C proves to server S it knows password\n",
    "# wihtout actually sending it across internet\n",
    "\n",
    "# (i) C Sends username to S\n",
    "username = 'Alice'\n",
    "\n",
    "# (ii) S Verifies username and sends nonce N to C\n",
    "if(username == 'Alice'):\n",
    "    Nonce = 2357\n",
    "\n",
    "# (iii) C Computes hash H=MD5(N||P||N) and sends H to S\n",
    "HashZero = hashlib.md5()\n",
    "HashZero.update((str(Nonce) + \"SecretPassword123\" + str(Nonce)).encode())\n",
    "HashZero = HashZero.digest()\n",
    "print('HashZero: ', HashZero)"
   ]
  },
  {
   "cell_type": "code",
   "execution_count": 34,
   "metadata": {},
   "outputs": [
    {
     "name": "stdout",
     "output_type": "stream",
     "text": [
      "HashG:  b'\\x15; C\\x10~imA\\xd1S\\x1a\\xfd;\\x7f\\x95'\n"
     ]
    }
   ],
   "source": [
    "# (iv) S independently computes G = MD5(N||P||N) and compares\n",
    "HashG = hashlib.md5()\n",
    "HashG.update((str(Nonce) + \"SecretPassword123\" + str(Nonce)).encode())\n",
    "HashG = HashG.digest()\n",
    "print('HashG: ', HashG)"
   ]
  },
  {
   "cell_type": "code",
   "execution_count": 35,
   "metadata": {},
   "outputs": [
    {
     "name": "stdout",
     "output_type": "stream",
     "text": [
      "Verified!\n"
     ]
    }
   ],
   "source": [
    "if HashZero == HashG:\n",
    "    print(\"Verified!\")\n",
    "else:\n",
    "    print(\"Invalid!\")"
   ]
  },
  {
   "cell_type": "code",
   "execution_count": 3,
   "metadata": {},
   "outputs": [
    {
     "name": "stdout",
     "output_type": "stream",
     "text": [
      "B = 9\n",
      "r = 15\n",
      "q = 7\n",
      "i = 1\n",
      "s = 9\n",
      "C = 12\n",
      "D = 12\n",
      "Alice knows the value of x\n"
     ]
    }
   ],
   "source": [
    "#####################################\n",
    "# Q4. Discrete Zero Knoledge Proofs #\n",
    "#####################################\n",
    "\n",
    "# Given: Alice and Bob know public values p=17 and A=5\n",
    "# Alice also knows x=10\n",
    "# Show: How Alice can prrove she knows x w/o revealing it to Bob\n",
    "\n",
    "# Public Variables\n",
    "p = 17\n",
    "A = 5\n",
    "\n",
    "# Alice's Private Variables\n",
    "x = 10\n",
    "\n",
    "\n",
    "# 1.) A, B, and p are public\n",
    "\n",
    "# 2.) Alice  Computes A^x mod p\n",
    "# Note: A^x = B mod p\n",
    "B = pow(A, x) % p\n",
    "print('B = %d' % B)\n",
    "\n",
    "# Helper Function\n",
    "from random import randint\n",
    "\n",
    "# 3.) Alice chooses random number r < p and sends q = A^r mod p to Bob\n",
    "r = randint(0, p-1)\n",
    "print('r = %d' %r)\n",
    "q = pow(A, r) % p\n",
    "print('q = %d' % q)\n",
    "\n",
    "# 4.) Bob sends random bit i\n",
    "i = randint(0, 1)\n",
    "print('i = %d' % i)\n",
    "\n",
    "# 5.) Alice Computes s=(r+i*x) mod p and sends s to Bob\n",
    "s = (r + i*x) % (p - 1)\n",
    "print('s = %d' % s)\n",
    "\n",
    "# 6.) Bob computes C=A^s mod p, which chould be equal to D=q*B^i\n",
    "# If it doesnt then he knows Alice doesn't know x\n",
    "C = pow(A, s) % p\n",
    "print('C = %d' % C)\n",
    "D = q*pow(B, i) % p\n",
    "print('D = %d' % D)\n",
    "if(C == D):\n",
    "    print('Alice knows the value of x')\n",
    "else:\n",
    "    print('Alice does NOT know the value of x')\n"
   ]
  },
  {
   "cell_type": "code",
   "execution_count": null,
   "metadata": {},
   "outputs": [],
   "source": []
  }
 ],
 "metadata": {
  "kernelspec": {
   "display_name": "Python 3",
   "language": "python",
   "name": "python3"
  },
  "language_info": {
   "codemirror_mode": {
    "name": "ipython",
    "version": 3
   },
   "file_extension": ".py",
   "mimetype": "text/x-python",
   "name": "python",
   "nbconvert_exporter": "python",
   "pygments_lexer": "ipython3",
   "version": "3.6.4"
  }
 },
 "nbformat": 4,
 "nbformat_minor": 2
}
