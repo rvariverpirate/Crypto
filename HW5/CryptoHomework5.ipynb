{
 "cells": [
  {
   "cell_type": "code",
   "execution_count": 1,
   "metadata": {},
   "outputs": [
    {
     "data": {
      "text/plain": [
       "'\\nCS 764 Blockchains and Cryptocurrencies\\nModule 5, Homework 5\\nFebruary 18, 2020\\nJoseph S Cannella\\n'"
      ]
     },
     "execution_count": 1,
     "metadata": {},
     "output_type": "execute_result"
    }
   ],
   "source": [
    "'''\n",
    "CS 764 Blockchains and Cryptocurrencies\n",
    "Module 5, Homework 5\n",
    "February 18, 2020\n",
    "Joseph S Cannella\n",
    "'''"
   ]
  },
  {
   "cell_type": "code",
   "execution_count": 39,
   "metadata": {},
   "outputs": [
    {
     "name": "stdout",
     "output_type": "stream",
     "text": [
      "n = 55\n",
      "Phi(n) = 40\n",
      "d = 23\n"
     ]
    }
   ],
   "source": [
    "################################\n",
    "# Q1. Blind Digital Signatures #\n",
    "################################\n",
    "\n",
    "# (i) Given p=5,q=11 determine public key (e,n) and private key (d,n) Where e=7\n",
    "p = 5\n",
    "q = 11\n",
    "e = 7# Public Key (e,n)\n",
    "n = p*q# base (55)\n",
    "Phi_n = (p-1)*(q-1)\n",
    "print('n = %d' %n)\n",
    "print('Phi(n) = %d' % Phi_n)\n",
    "\n",
    "# Note: d == e^-1(mod(Phi_n)), or e*d = 1 mod Phi_n, 7*d = 1 mod 40\n",
    "# Define a helper function for obtaining modular inverse\n",
    "# Refference: egcd() and modinv() were obtained from following site\n",
    "# https://stackoverflow.com/questions/4798654/modular-multiplicative-inverse-function-in-python\n",
    "def egcd(a, b):\n",
    "    if a == 0:\n",
    "        return (b, 0, 1)\n",
    "    else:\n",
    "        g, y, x = egcd(b % a, a)\n",
    "        return (g, x - (b // a) * y, y)\n",
    "\n",
    "def modinv(a, m):\n",
    "    g, x, y = egcd(a, m)\n",
    "    if g != 1:\n",
    "        raise Exception('modular inverse does not exist')\n",
    "    else:\n",
    "        return x % m\n",
    "# Determine the Value of the Private Key\n",
    "d = modinv(e, Phi_n)\n",
    "print('d = %d' % d)"
   ]
  },
  {
   "cell_type": "code",
   "execution_count": 40,
   "metadata": {},
   "outputs": [
    {
     "name": "stdout",
     "output_type": "stream",
     "text": [
      "Blinding Factor = 41\n"
     ]
    }
   ],
   "source": [
    "# (ii) Given: b=6 determine blinding factor using derived public key\n",
    "b = 6 # randomly chosen number used to blind the message\n",
    "BF = pow(b, e) % n\n",
    "print('Blinding Factor = %d' % BF)"
   ]
  },
  {
   "cell_type": "code",
   "execution_count": 41,
   "metadata": {},
   "outputs": [
    {
     "name": "stdout",
     "output_type": "stream",
     "text": [
      "Blinded Message = 11\n"
     ]
    }
   ],
   "source": [
    "# (iii) Given: m=11, determine blinded message\n",
    "m = 11# Plain Text Message\n",
    "BM = m*BF % n# Blinded Message\n",
    "print('Blinded Message = %d' % BM)"
   ]
  },
  {
   "cell_type": "code",
   "execution_count": 42,
   "metadata": {},
   "outputs": [
    {
     "name": "stdout",
     "output_type": "stream",
     "text": [
      "Signed Blinded Message = 11\n"
     ]
    }
   ],
   "source": [
    "# (iv) Determine signature on blinded message using private key\n",
    "BM_signed = pow(BM, d) % n# Bob's signature on blinded message\n",
    "print('Signed Blinded Message = %d' % BM_signed)"
   ]
  },
  {
   "cell_type": "code",
   "execution_count": 43,
   "metadata": {},
   "outputs": [
    {
     "name": "stdout",
     "output_type": "stream",
     "text": [
      "Signed Message = 11\n"
     ]
    }
   ],
   "source": [
    "# (v) Unblind the signature on the blinded message to obtain signature on message\n",
    "SignedMessage = BM_signed*modinv(b, n) % n# Original Message signed by Bob\n",
    "print('Signed Message = %d' % SignedMessage)"
   ]
  },
  {
   "cell_type": "code",
   "execution_count": 44,
   "metadata": {},
   "outputs": [
    {
     "name": "stdout",
     "output_type": "stream",
     "text": [
      "Verified Signature = 11\n"
     ]
    }
   ],
   "source": [
    "# (vi) Verify blind signature matches signature on m using (d,n)\n",
    "VerifiedSignature = pow(m, d) % n\n",
    "print('Verified Signature = %d' % VerifiedSignature)"
   ]
  },
  {
   "cell_type": "code",
   "execution_count": null,
   "metadata": {},
   "outputs": [],
   "source": [
    "###############################\n",
    "# Q2, Bit-commitment protocol #\n",
    "###############################\n",
    "\n",
    "# Secret Nonces for each person (Alice, Bob, Carol, David)\n",
    "NA = \n",
    "NB = \n",
    "NC = \n",
    "ND = "
   ]
  }
 ],
 "metadata": {
  "kernelspec": {
   "display_name": "Python 3",
   "language": "python",
   "name": "python3"
  },
  "language_info": {
   "codemirror_mode": {
    "name": "ipython",
    "version": 3
   },
   "file_extension": ".py",
   "mimetype": "text/x-python",
   "name": "python",
   "nbconvert_exporter": "python",
   "pygments_lexer": "ipython3",
   "version": "3.6.4"
  }
 },
 "nbformat": 4,
 "nbformat_minor": 2
}
